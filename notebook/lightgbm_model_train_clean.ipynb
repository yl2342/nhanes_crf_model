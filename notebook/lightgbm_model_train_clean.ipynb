{
  "cells": [
    {
      "cell_type": "markdown",
      "metadata": {
        "id": "L-cWdHw8cyrm"
      },
      "source": [
        "# Setting environment"
      ]
    },
    {
      "cell_type": "code",
      "execution_count": null,
      "metadata": {
        "id": "AhPNN9MgVHUU"
      },
      "outputs": [],
      "source": [
        "## loading packages\n",
        "\n",
        "import os\n",
        "import time\n",
        "import math\n",
        "import random\n",
        "from random import sample\n",
        "from random import seed\n",
        "\n",
        "import pandas as pd\n",
        "import numpy as np\n",
        "import lightgbm as lgb\n",
        "\n",
        "from sklearn.model_selection import train_test_split\n",
        "from sklearn.model_selection import RandomizedSearchCV\n",
        "from sklearn.model_selection import GridSearchCV\n",
        "from sklearn import neighbors\n",
        "from sklearn.metrics import mean_squared_error, mean_absolute_error, r2_score\n",
        "\n",
        "from scipy.stats import randint\n",
        "from scipy.stats import uniform\n",
        "from scipy.stats import pearsonr\n",
        "\n",
        "import joblib\n",
        "\n"
      ]
    },
    {
      "cell_type": "code",
      "execution_count": null,
      "metadata": {
        "colab": {
          "base_uri": "https://localhost:8080/",
          "height": 53
        },
        "id": "Gl6d5-5ZJoR4",
        "outputId": "9a9b4d0f-7870-4633-bdb2-2e49932f97f8"
      },
      "outputs": [
        {
          "name": "stdout",
          "output_type": "stream",
          "text": [
            "Mounted at /content/drive\n"
          ]
        },
        {
          "data": {
            "application/vnd.google.colaboratory.intrinsic+json": {
              "type": "string"
            },
            "text/plain": [
              "'/content/drive/MyDrive/nhanes_crf_model'"
            ]
          },
          "execution_count": 3,
          "metadata": {},
          "output_type": "execute_result"
        }
      ],
      "source": [
        "from google.colab import drive\n",
        "drive.mount('/content/drive')\n",
        "\n",
        "# change to working directory\n",
        "wd_path = '/content/drive/MyDrive/nhanes_crf_model'\n",
        "os.chdir(wd_path)\n",
        "os.getcwd()"
      ]
    },
    {
      "cell_type": "markdown",
      "metadata": {
        "id": "D9ammSUeMWlC"
      },
      "source": [
        "## Extended model"
      ]
    },
    {
      "cell_type": "code",
      "execution_count": null,
      "metadata": {
        "id": "wru3F6GgIkCH"
      },
      "outputs": [],
      "source": [
        "extended_variables = ['INDFMPIR', 'health_insurance', 'htn_history', 'age', 'ALT', 'AST',\n",
        "       'BUN', 'GLU', 'LDH', 'CHOL', 'TOTPRO', 'POTAS', 'SODI', 'albuminuria',\n",
        "       'CHL', 'HBA1C', 'CREATININE', 'BILIRUBIN', 'CALCIUM', 'BICARBONATE',\n",
        "       'SY_mean', 'DI_mean', 'BMXBMI', 'BMXWAIST', 'BPXPLS', 'BMXWT', 'BMXHT',\n",
        "       'WT_DIFF_KG', 'lwlstyr', 'exerc2lwlastyr', 'ARM_PF', 'ARM_BMD',\n",
        "       'ARM_LEAN', 'LEG_PF', 'LEG_BMD', 'LEG_LEAN', 'TR_PF', 'TR_BMD',\n",
        "       'TR_LEAN', 'TWMT_log', 'walk_bike', 'gender_Male',\n",
        "       'race_ethn_Non-Hispanic Black', 'race_ethn_Non-Hispanic White',\n",
        "       'race_ethn_Other', 'educ_High school diploma or GED',\n",
        "       'educ_Less than high school', 'marital_status_other',\n",
        "       'family_income_Low income', 'employment_status_Unemployed',\n",
        "       'employment_status_Working', 'smoking_status_Former smoker',\n",
        "       'smoking_status_Never smoker', 'alcohol_intake_Heavier drinker',\n",
        "       'alcohol_intake_Light drinker', 'alcohol_intake_Moderate drinker',\n",
        "       'alcohol_intake_Never drinker', 'physical_activity_Inactive',\n",
        "       'physical_activity_Insufficient active']\n",
        "\n",
        "## read the train/test data\n",
        "train_extended_dmy = pd.read_csv('data/train_all_dummies.csv')[extended_variables + [\"y_train\"]]\n",
        "test_extended_dmy = pd.read_csv('data/test_all_dummies.csv')[extended_variables + [\"y_test\"]]\n",
        "\n",
        "\n",
        "## train\n",
        "X_train_extended_dmy = train_extended_dmy.drop(['y_train'], axis =1)\n",
        "y_train_extended_dmy = train_extended_dmy['y_train']\n",
        "\n",
        "# test\n",
        "X_test_extended_dmy = test_extended_dmy.drop(['y_test'], axis =1)\n",
        "y_test_extended_dmy = test_extended_dmy['y_test']"
      ]
    },
    {
      "cell_type": "code",
      "execution_count": null,
      "metadata": {
        "colab": {
          "base_uri": "https://localhost:8080/"
        },
        "id": "igyfYYqdcJH8",
        "outputId": "c05b72d5-f1ca-4b56-f704-ee16d6306ad7"
      },
      "outputs": [
        {
          "name": "stdout",
          "output_type": "stream",
          "text": [
            "Fitting 5 folds for each of 100 candidates, totalling 500 fits\n",
            "[LightGBM] [Warning] bagging_freq is set=0, subsample_freq=0 will be ignored. Current value: bagging_freq=0\n",
            "[LightGBM] [Warning] feature_fraction is set=0.7861223846483287, colsample_bytree=1.0 will be ignored. Current value: feature_fraction=0.7861223846483287\n",
            "[LightGBM] [Warning] Found whitespace in feature_names, replace with underlines\n",
            "[LightGBM] [Warning] bagging_freq is set=0, subsample_freq=0 will be ignored. Current value: bagging_freq=0\n",
            "[LightGBM] [Warning] feature_fraction is set=0.7861223846483287, colsample_bytree=1.0 will be ignored. Current value: feature_fraction=0.7861223846483287\n",
            "[LightGBM] [Info] Auto-choosing col-wise multi-threading, the overhead of testing was 0.003780 seconds.\n",
            "You can set `force_col_wise=true` to remove the overhead.\n",
            "[LightGBM] [Info] Total Bins 5699\n",
            "[LightGBM] [Info] Number of data points in the train set: 4534, number of used features: 59\n",
            "[LightGBM] [Info] Start training from score 41.556134\n",
            "Best score rmse in validation set:\n",
            "-8.786756794100942\n",
            "Execution time is:\n",
            "43.422518730163574\n"
          ]
        },
        {
          "data": {
            "text/plain": [
              "['/content/drive/MyDrive/nhanes_crf_model/model/lgb_extended.pkl']"
            ]
          },
          "execution_count": 11,
          "metadata": {},
          "output_type": "execute_result"
        }
      ],
      "source": [
        "## random search 100 times\n",
        "search_iter = 100\n",
        "\n",
        "param_dist_lgb = {\n",
        "    'learning_rate' : [0.1, 0.01,0.05],\n",
        "    'num_leaves': [15,31,63,127,255,511,1023,2047],\n",
        "    'min_child_samples':[1,5,10,15,20],\n",
        "    'subsample': uniform(loc = 0.4, scale =0.5),\n",
        "    'reg_lambda' : uniform(loc = 0.0, scale =0.3),\n",
        "    'bagging_freq' : [0,5,10,15,30],\n",
        "    'n_estimators' :[30,50,100,200,500,1000],\n",
        "    'feature_fraction' : uniform(loc = 0.4, scale =0.5)\n",
        "}\n",
        "\n",
        "lgb_reg_extended = lgb.LGBMRegressor(objective = 'regression',\n",
        "                             random_state= 42,\n",
        "                             min_split_gain = 0.00001)\n",
        "\n",
        "\n",
        "## using rmse score\n",
        "randomsearch_lgb_extended_dmy_rmse  = RandomizedSearchCV(\n",
        "    estimator=lgb_reg_extended,\n",
        "    param_distributions=param_dist_lgb,\n",
        "    n_iter=search_iter,\n",
        "    scoring='neg_root_mean_squared_error',\n",
        "    cv=5,\n",
        "    n_jobs = -1,\n",
        "    refit=True,\n",
        "    random_state= 42,\n",
        "    verbose=1)\n",
        "\n",
        "## rmse score loss\n",
        "start = time.time()\n",
        "\n",
        "randomsearch_lgb_extended_dmy_rmse.fit(X=X_train_extended_dmy,\n",
        "                                       y=y_train_extended_dmy)\n",
        "\n",
        "print('Best score rmse in validation set:')\n",
        "print(randomsearch_lgb_extended_dmy_rmse.best_score_)\n",
        "\n",
        "\n",
        "end = time.time()\n",
        "print('Execution time is:')\n",
        "print((end - start)/60)\n",
        "\n",
        "\n",
        "# save  model\n",
        "## pickle files using joblib\n",
        "joblib.dump(randomsearch_lgb_extended_dmy_rmse.best_estimator_, '/content/drive/MyDrive/nhanes_crf_model/model/lgb_extended.pkl')\n"
      ]
    },
    {
      "cell_type": "code",
      "execution_count": null,
      "metadata": {
        "colab": {
          "base_uri": "https://localhost:8080/"
        },
        "collapsed": true,
        "id": "4r8fMG3yGX7e",
        "outputId": "03de65f2-d8e5-433c-f956-e74618cb1adc"
      },
      "outputs": [
        {
          "name": "stdout",
          "output_type": "stream",
          "text": [
            "[LightGBM] [Warning] feature_fraction is set=0.7861223846483287, colsample_bytree=1.0 will be ignored. Current value: feature_fraction=0.7861223846483287\n",
            "[LightGBM] [Warning] bagging_freq is set=0, subsample_freq=0 will be ignored. Current value: bagging_freq=0\n",
            "test rmse: 8.3120286753255\n",
            "test mae: 5.907036352010363\n",
            "test r2: 0.3098009927955049\n"
          ]
        }
      ],
      "source": [
        "lgb_extended =  joblib.load('/content/drive/MyDrive/nhanes_crf_model/model/lgb_extended.pkl')\n",
        "\n",
        "pred_vo2max_lgb_extended_dmy = lgb_extended.predict(X_test_extended_dmy)\n",
        "\n",
        "## rmse\n",
        "lgb_extended_dmy_rmse = np.sqrt(mean_squared_error(y_test_extended_dmy, pred_vo2max_lgb_extended_dmy))\n",
        "## mae\n",
        "lgb_extended_dmy_mae = mean_absolute_error(y_test_extended_dmy,pred_vo2max_lgb_extended_dmy)\n",
        "## r2\n",
        "lgb_extended_dmy_r2 = r2_score(y_test_extended_dmy,pred_vo2max_lgb_extended_dmy)\n",
        "\n",
        "print('test rmse: {}'.format(lgb_extended_dmy_rmse))\n",
        "print('test mae: {}'.format(lgb_extended_dmy_mae))\n",
        "print('test r2: {}'.format(lgb_extended_dmy_r2))\n",
        "\n"
      ]
    },
    {
      "cell_type": "markdown",
      "metadata": {
        "id": "I5uDKAsOoQGz"
      },
      "source": [
        "## Parsimonious model"
      ]
    },
    {
      "cell_type": "code",
      "execution_count": null,
      "metadata": {
        "id": "l8ChAYXZoQG1"
      },
      "outputs": [],
      "source": [
        "parsimonious_variables = ['INDFMPIR', 'health_insurance', 'htn_history', 'age', 'SY_mean',\n",
        "       'DI_mean', 'BMXBMI', 'BMXWAIST', 'BPXPLS', 'BMXWT', 'BMXHT',\n",
        "       'WT_DIFF_KG', 'lwlstyr', 'exerc2lwlastyr', 'TWMT_log', 'walk_bike',\n",
        "       'gender_Male', 'race_ethn_Non-Hispanic Black',\n",
        "       'race_ethn_Non-Hispanic White', 'race_ethn_Other',\n",
        "       'educ_High school diploma or GED', 'educ_Less than high school',\n",
        "       'marital_status_other', 'family_income_Low income',\n",
        "       'employment_status_Unemployed', 'employment_status_Working',\n",
        "       'smoking_status_Former smoker', 'smoking_status_Never smoker',\n",
        "       'alcohol_intake_Heavier drinker', 'alcohol_intake_Light drinker',\n",
        "       'alcohol_intake_Moderate drinker', 'alcohol_intake_Never drinker',\n",
        "       'physical_activity_Inactive', 'physical_activity_Insufficient active']\n",
        "\n",
        "\n",
        "## read the train/test data\n",
        "train_parsimonious_dmy = pd.read_csv('data/train_all_dummies.csv')[parsimonious_variables+[\"y_train\"]]\n",
        "test_parsimonious_dmy = pd.read_csv('data/test_all_dummies.csv')[parsimonious_variables+[\"y_test\"]]\n",
        "\n",
        "## train\n",
        "X_train_parsimonious_dmy = train_parsimonious_dmy.drop(['y_train'], axis =1)\n",
        "y_train_parsimonious_dmy = train_parsimonious_dmy['y_train']\n",
        "\n",
        "# test\n",
        "X_test_parsimonious_dmy = test_parsimonious_dmy.drop(['y_test'], axis =1)\n",
        "y_test_parsimonious_dmy = test_parsimonious_dmy['y_test']\n",
        "\n"
      ]
    },
    {
      "cell_type": "code",
      "execution_count": null,
      "metadata": {
        "colab": {
          "base_uri": "https://localhost:8080/"
        },
        "collapsed": true,
        "id": "aIix657boQG3",
        "outputId": "5b7974f3-9813-421a-e292-bde65ea27037"
      },
      "outputs": [
        {
          "name": "stdout",
          "output_type": "stream",
          "text": [
            "Fitting 5 folds for each of 100 candidates, totalling 500 fits\n",
            "[LightGBM] [Warning] bagging_freq is set=0, subsample_freq=0 will be ignored. Current value: bagging_freq=0\n",
            "[LightGBM] [Warning] feature_fraction is set=0.7861223846483287, colsample_bytree=1.0 will be ignored. Current value: feature_fraction=0.7861223846483287\n",
            "[LightGBM] [Warning] Found whitespace in feature_names, replace with underlines\n",
            "[LightGBM] [Warning] bagging_freq is set=0, subsample_freq=0 will be ignored. Current value: bagging_freq=0\n",
            "[LightGBM] [Warning] feature_fraction is set=0.7861223846483287, colsample_bytree=1.0 will be ignored. Current value: feature_fraction=0.7861223846483287\n",
            "[LightGBM] [Info] Auto-choosing row-wise multi-threading, the overhead of testing was 0.001333 seconds.\n",
            "You can set `force_row_wise=true` to remove the overhead.\n",
            "And if memory is not enough, you can set `force_col_wise=true`.\n",
            "[LightGBM] [Info] Total Bins 1999\n",
            "[LightGBM] [Info] Number of data points in the train set: 4534, number of used features: 34\n",
            "[LightGBM] [Info] Start training from score 41.556134\n",
            "Best score rmse in validation set:\n",
            "-9.063324016536665\n",
            "Execution time:\n",
            "20.565823829174043\n"
          ]
        },
        {
          "data": {
            "text/plain": [
              "['/content/drive/MyDrive/nhanes_crf_model/model/lgb_parsimonious.pkl']"
            ]
          },
          "execution_count": 8,
          "metadata": {},
          "output_type": "execute_result"
        }
      ],
      "source": [
        "# random search 100\n",
        "search_iter = 100\n",
        "\n",
        "param_dist_lgb = {\n",
        "    'learning_rate' : [0.1, 0.01,0.05],\n",
        "    'num_leaves': [15,31,63,127,255,511,1023,2047],\n",
        "    'min_child_samples':[1,5,10,15,20],\n",
        "    'subsample': uniform(loc = 0.4, scale =0.5),\n",
        "    'reg_lambda' : uniform(loc = 0.0, scale =0.3),\n",
        "    'bagging_freq' : [0,5,10,15,30],\n",
        "    'n_estimators' :[30,50,100,200,500,1000],\n",
        "    'feature_fraction' : uniform(loc = 0.4, scale =0.5)\n",
        "}\n",
        "\n",
        "lgb_reg_parsimonious = lgb.LGBMRegressor(objective = 'regression',\n",
        "                             random_state= 42,\n",
        "                             min_split_gain = 0.00001)\n",
        "\n",
        "\n",
        "## using rmse score\n",
        "randomsearch_lgb_parsimonious_dmy_rmse  = RandomizedSearchCV(\n",
        "    estimator=lgb_reg_parsimonious,\n",
        "    param_distributions=param_dist_lgb,\n",
        "    n_iter=search_iter,\n",
        "    scoring='neg_root_mean_squared_error',\n",
        "    cv=5,\n",
        "    n_jobs = -1,\n",
        "    refit=True,\n",
        "    random_state= 42,\n",
        "    verbose=1)\n",
        "\n",
        "## rmse score loss\n",
        "start = time.time()\n",
        "\n",
        "randomsearch_lgb_parsimonious_dmy_rmse.fit(X=X_train_parsimonious_dmy,\n",
        "                                           y=y_train_parsimonious_dmy)\n",
        "\n",
        "print('Best score rmse in validation set:')\n",
        "print(randomsearch_lgb_parsimonious_dmy_rmse.best_score_)\n",
        "\n",
        "end = time.time()\n",
        "print('Execution time:')\n",
        "print((end - start)/60)\n",
        "\n",
        "\n",
        "# save best model\n",
        "## pickle files using joblib\n",
        "joblib.dump(randomsearch_lgb_parsimonious_dmy_rmse.best_estimator_, '/content/drive/MyDrive/nhanes_crf_model/model/lgb_parsimonious.pkl')\n"
      ]
    },
    {
      "cell_type": "code",
      "execution_count": null,
      "metadata": {
        "colab": {
          "base_uri": "https://localhost:8080/"
        },
        "id": "Orcj9kaHZJLQ",
        "outputId": "d5e1c76d-fde1-46ac-bae8-bb65bbce7794"
      },
      "outputs": [
        {
          "name": "stdout",
          "output_type": "stream",
          "text": [
            "[LightGBM] [Warning] feature_fraction is set=0.7861223846483287, colsample_bytree=1.0 will be ignored. Current value: feature_fraction=0.7861223846483287\n",
            "[LightGBM] [Warning] bagging_freq is set=0, subsample_freq=0 will be ignored. Current value: bagging_freq=0\n",
            "test rmse: 8.523236665565024\n",
            "test mae: 6.128975659586947\n",
            "test r2: 0.2742795518882555\n"
          ]
        }
      ],
      "source": [
        "lgb_parsimonious =  joblib.load('/content/drive/MyDrive/nhanes_crf_model/model/lgb_parsimonious.pkl')\n",
        "\n",
        "pred_vo2max_lgb_parsimonious_dmy = lgb_parsimonious.predict(X_test_parsimonious_dmy)\n",
        "\n",
        "## rmse\n",
        "lgb_parsimonious_dmy_rmse = np.sqrt(mean_squared_error(y_test_parsimonious_dmy, pred_vo2max_lgb_parsimonious_dmy))\n",
        "## mae\n",
        "lgb_parsimonious_dmy_mae = mean_absolute_error(y_test_parsimonious_dmy,pred_vo2max_lgb_parsimonious_dmy)\n",
        "## r2\n",
        "lgb_parsimonious_dmy_r2 = r2_score(y_test_parsimonious_dmy,pred_vo2max_lgb_parsimonious_dmy)\n",
        "\n",
        "print('test rmse: {}'.format(lgb_parsimonious_dmy_rmse))\n",
        "print('test mae: {}'.format(lgb_parsimonious_dmy_mae))\n",
        "print('test r2: {}'.format(lgb_parsimonious_dmy_r2))"
      ]
    }
  ],
  "metadata": {
    "colab": {
      "provenance": []
    },
    "kernelspec": {
      "display_name": "Python 3",
      "name": "python3"
    },
    "language_info": {
      "name": "python"
    }
  },
  "nbformat": 4,
  "nbformat_minor": 0
}
